{
  "nbformat": 4,
  "nbformat_minor": 0,
  "metadata": {
    "colab": {
      "provenance": [],
      "authorship_tag": "ABX9TyN+3fWcIeTajpbMJXF2o1/p",
      "include_colab_link": true
    },
    "kernelspec": {
      "name": "python3",
      "display_name": "Python 3"
    },
    "language_info": {
      "name": "python"
    }
  },
  "cells": [
    {
      "cell_type": "markdown",
      "metadata": {
        "id": "view-in-github",
        "colab_type": "text"
      },
      "source": [
        "<a href=\"https://colab.research.google.com/github/YolineB/Hack_the_Hood/blob/main/week_4_review.ipynb\" target=\"_parent\"><img src=\"https://colab.research.google.com/assets/colab-badge.svg\" alt=\"Open In Colab\"/></a>"
      ]
    },
    {
      "cell_type": "markdown",
      "source": [
        "# Lists"
      ],
      "metadata": {
        "id": "A7RR3CVEKdRN"
      }
    },
    {
      "cell_type": "code",
      "execution_count": 1,
      "metadata": {
        "colab": {
          "base_uri": "https://localhost:8080/"
        },
        "id": "RI8w1nPtGY12",
        "outputId": "0991db27-a015-4f28-807d-81925e9fd4c0"
      },
      "outputs": [
        {
          "output_type": "stream",
          "name": "stdout",
          "text": [
            "['Ella Enchanted', 'Pachinko', 'Americanah']\n"
          ]
        }
      ],
      "source": [
        "# 1. Create a list and then print it, making sure to give it a descriptive variable name:\n",
        "\n",
        "my_books = ['Ella Enchanted', 'Pachinko', 'Americanah']\n",
        "\n",
        "print(my_books)"
      ]
    },
    {
      "cell_type": "code",
      "source": [
        "# 2. Index practice with this list\n",
        "\n",
        "rainbow_colors = ['red', 'orange', 'yellow', 'green', 'blue', 'indigo', 'violet']\n",
        "\n",
        "# 2a. Print the third color through indexing\n",
        "\n",
        "print(rainbow_colors[2])\n",
        "\n",
        "# 2b. Print the last color through indexing\n",
        "\n",
        "print(rainbow_colors[6])\n",
        "\n",
        "print(rainbow_colors[-1])\n",
        "\n",
        "# 2c. Print the first three colors through indexing\n",
        "print(rainbow_colors[0:3])\n",
        "\n",
        "# 2d. Print the last three colors through indexing\n",
        "\n",
        "print(rainbow_colors[4:7])\n",
        "\n",
        "# 2d. Set up the print statement so the output is: green  violet  orange\n",
        "\n",
        "print(rainbow_colors[3], rainbow_colors[-2], rainbow_colors[1])\n",
        "\n",
        "\n",
        "fruits = [\n",
        "    \"Apple\", \"Banana\", \"Orange\", \"Grape\", \"Pineapple\",\n",
        "    \"Strawberry\", \"Blueberry\", \"Raspberry\", \"Mango\", \"Peach\",\n",
        "    \"Cherry\", \"Watermelon\", \"Cantaloupe\", \"Honeydew\", \"Kiwi\",\n",
        "    \"Papaya\", \"Plum\", \"Pomegranate\", \"Lychee\", \"Dragonfruit\",\n",
        "    \"Passionfruit\", \"Fig\", \"Guava\"\n",
        "]\n",
        "\n",
        "# Print out the following statement by indexing\n",
        "# and concatenating the elements of list to be:\n",
        "# \"I would like to buy Passionfruit, Fig, and Guava\"\n",
        "\n",
        "print(\"I would like to buy \" + fruits[-3] + \", \" + fruits[-2] + \", and \" + fruits[-1])\n",
        "\n",
        "# Print out the length of the fruits list\n",
        "len(fruits)"
      ],
      "metadata": {
        "colab": {
          "base_uri": "https://localhost:8080/"
        },
        "id": "wi1U6DY2LA2c",
        "outputId": "588dae28-6c82-4d2b-d2b1-734a706d2404"
      },
      "execution_count": 16,
      "outputs": [
        {
          "output_type": "stream",
          "name": "stdout",
          "text": [
            "yellow\n",
            "violet\n",
            "violet\n",
            "['red', 'orange', 'yellow']\n",
            "['blue', 'indigo', 'violet']\n",
            "green indigo orange\n",
            "I would like to buy Passionfruit, Fig, and Guava\n"
          ]
        },
        {
          "output_type": "execute_result",
          "data": {
            "text/plain": [
              "23"
            ]
          },
          "metadata": {},
          "execution_count": 16
        }
      ]
    },
    {
      "cell_type": "code",
      "source": [],
      "metadata": {
        "id": "lB8bROhqMNp6"
      },
      "execution_count": null,
      "outputs": []
    },
    {
      "cell_type": "markdown",
      "source": [
        "# Inputs"
      ],
      "metadata": {
        "id": "lri6RU79Q5zr"
      }
    },
    {
      "cell_type": "code",
      "source": [
        "# Step 1: Get the user's name as input\n",
        "\n",
        "full_name = input(\"Enter your full name here\")\n",
        "print(\"Good day \" + full_name + \"!!!!!!!!!!!\")"
      ],
      "metadata": {
        "colab": {
          "base_uri": "https://localhost:8080/"
        },
        "id": "yBneUkJxQ8ym",
        "outputId": "7b3d5742-1575-4605-e338-cf2b4d32b1b7"
      },
      "execution_count": 18,
      "outputs": [
        {
          "output_type": "stream",
          "name": "stdout",
          "text": [
            "Enter your full name hereYoline Me\n",
            "Good dayYoline Me!!!!!!!!!!!\n"
          ]
        }
      ]
    },
    {
      "cell_type": "code",
      "source": [
        "# Step 2: Get the user's age as input and convert it to an integer\n",
        "\n",
        "users_age = input(\"What is your age?\")\n",
        "users_age = int(users_age)\n",
        "\n",
        "print(\"You are \" + str(users_age) + \" years old\")\n",
        "\n",
        "# Step 3: Calculate the user's age in 5 years\n",
        "\n",
        "future_age = users_age + 5\n",
        "\n",
        "print(\"You will be \" + str(future_age) + \" years old in 5 years.\")\n",
        "\n",
        "# Step 5: Introduce f-strings for cleaner output\n",
        "\n",
        "print(f\"Hello! You are {users_age} years old.\")\n"
      ],
      "metadata": {
        "colab": {
          "base_uri": "https://localhost:8080/"
        },
        "id": "_fJF2i6HRybz",
        "outputId": "d3f51f6e-edde-45a1-e53a-beabd33df9c3"
      },
      "execution_count": 23,
      "outputs": [
        {
          "output_type": "stream",
          "name": "stdout",
          "text": [
            "What is your age?80\n",
            "You are 80 years old\n",
            "You will be 85 years old in 5 years.\n",
            "Hello! You are 80 years old.\n"
          ]
        }
      ]
    },
    {
      "cell_type": "markdown",
      "source": [
        "# Conditionals w/ Operators"
      ],
      "metadata": {
        "id": "OFmuH9CsZ5EG"
      }
    },
    {
      "cell_type": "code",
      "source": [
        "# Step 1 + 2: Simple if statement with arithmetic operators\n",
        "age = int(input(\"Please enter your age: \"))\n",
        "\n",
        "age_in_4_years = age + 4\n",
        "\n",
        "if age_in_4_years >= 18:\n",
        "  print(\"GO VOTE\")\n",
        "else:\n",
        "  print(\"YOU CANNOT VOTE\")"
      ],
      "metadata": {
        "colab": {
          "base_uri": "https://localhost:8080/"
        },
        "id": "S7UJtBdqZ_jk",
        "outputId": "3dcc8a5e-7a1d-4a5f-f8e3-a387d5903b80"
      },
      "execution_count": 29,
      "outputs": [
        {
          "output_type": "stream",
          "name": "stdout",
          "text": [
            "Please enter your age: 13\n",
            "YOU CANNOT VOTE\n"
          ]
        }
      ]
    },
    {
      "cell_type": "code",
      "source": [
        "# Step 3: Using membership operators to check membership in a list\n",
        "fruit_craving = input(\"What fruit would you like to buy: \")\n",
        "fruits_store = [\"apple\", \"banana\", \"orange\", \"grape\", \"pineapple\"]\n",
        "\n",
        "if fruit_craving.lower() in fruits_store:\n",
        "  print(f\"{fruit_craving.capitalize()} is in the store! :D \")\n",
        "else:\n",
        "  print(f\"{fruit_craving.capitalize()} is not in the store, sorry :( \")"
      ],
      "metadata": {
        "colab": {
          "base_uri": "https://localhost:8080/"
        },
        "id": "T1iq_6jHa3Gu",
        "outputId": "f93e724b-634f-4928-c146-863e72cf47f1"
      },
      "execution_count": 33,
      "outputs": [
        {
          "output_type": "stream",
          "name": "stdout",
          "text": [
            "What fruit would you like to buy: apple\n",
            "Apple is in the store! :D \n"
          ]
        }
      ]
    },
    {
      "cell_type": "code",
      "source": [],
      "metadata": {
        "id": "IKZflh7Pdblw"
      },
      "execution_count": null,
      "outputs": []
    }
  ]
}